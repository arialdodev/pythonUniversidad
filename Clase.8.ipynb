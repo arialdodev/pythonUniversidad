{
 "cells": [
  {
   "cell_type": "code",
   "execution_count": null,
   "id": "06834fe5",
   "metadata": {},
   "outputs": [
    {
     "name": "stdout",
     "output_type": "stream",
     "text": [
      "7\n",
      "7.142857142857143\n"
     ]
    }
   ],
   "source": [
    "# Division\n",
    "div1 = 50\n",
    "div2 = 7\n",
    "\n",
    "print(\"division sin decimales\", div1//div2)\n",
    "print(\"division con decimales\", div1/div2)"
   ]
  },
  {
   "cell_type": "code",
   "execution_count": null,
   "id": "6a991eeb",
   "metadata": {},
   "outputs": [
    {
     "name": "stdout",
     "output_type": "stream",
     "text": [
      "Multiplicacion 20\n",
      "potenciacion 100\n"
     ]
    }
   ],
   "source": [
    "#Multiplicacion\n",
    "\n",
    "multi1 = 10\n",
    "multi2= 2\n",
    "\n",
    "print(\"Multiplicacion\", multi1 * multi2)\n",
    "print(\"potenciacion\", multi1 ** multi2)"
   ]
  },
  {
   "cell_type": "code",
   "execution_count": null,
   "id": "52feb9e3",
   "metadata": {},
   "outputs": [
    {
     "name": "stdout",
     "output_type": "stream",
     "text": [
      "impar\n",
      "0\n"
     ]
    }
   ],
   "source": [
    "#Modulo\n",
    "\n",
    "mod1 = 10\n",
    "mod2 = 5\n",
    "\n",
    "res = mod1 % mod2\n",
    "\n",
    "if res == 1:\n",
    "    print(\"impar\")\n",
    "else:\n",
    "    print(\"par\")\n",
    "    \n",
    "print(res)"
   ]
  },
  {
   "cell_type": "code",
   "execution_count": null,
   "id": "4ed4886a",
   "metadata": {},
   "outputs": [
    {
     "name": "stdout",
     "output_type": "stream",
     "text": [
      "el numero 20 espar\n"
     ]
    }
   ],
   "source": [
    "# imngresar numeros ppor teclado\n",
    "\n",
    "num1 = int(input(\"ingrese el primer numero: \"))\n",
    "\n",
    "if num1 % 2 == 0:\n",
    "    print(f\"el numero {num1} es par\")\n",
    "else: \n",
    "    print(f\"el numero {num1} es impar\")"
   ]
  },
  {
   "cell_type": "markdown",
   "id": "63aefd8d",
   "metadata": {},
   "source": [
    "# Propiedades de las cadenas de texto"
   ]
  },
  {
   "cell_type": "code",
   "execution_count": 25,
   "id": "7c5d976f",
   "metadata": {},
   "outputs": [
    {
     "name": "stdout",
     "output_type": "stream",
     "text": [
      "A A A A\n"
     ]
    }
   ],
   "source": [
    "nombre = \"JONATHAN SOSSA BUITRAGO\"\n",
    "\n",
    "print(nombre[3],nombre[6],nombre[13],nombre[20])"
   ]
  }
 ],
 "metadata": {
  "kernelspec": {
   "display_name": "Python 3",
   "language": "python",
   "name": "python3"
  },
  "language_info": {
   "codemirror_mode": {
    "name": "ipython",
    "version": 3
   },
   "file_extension": ".py",
   "mimetype": "text/x-python",
   "name": "python",
   "nbconvert_exporter": "python",
   "pygments_lexer": "ipython3",
   "version": "3.12.4"
  }
 },
 "nbformat": 4,
 "nbformat_minor": 5
}
