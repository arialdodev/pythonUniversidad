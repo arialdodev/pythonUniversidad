{
 "cells": [
  {
   "cell_type": "code",
   "execution_count": 3,
   "id": "5dace1b6",
   "metadata": {},
   "outputs": [],
   "source": [
    "d = {\n",
    "    \"chocolate\": 1,\n",
    "    \"pan\": 2,\n",
    "    \"arequipe\": 3,\n",
    "    \"arepa\": 4,\n",
    "    \"arroz\": 5,\n",
    "    \"papas\": 6,\n",
    "    \"platano\": 7,\n",
    "    \"sopa\": 8\n",
    "    }"
   ]
  },
  {
   "cell_type": "code",
   "execution_count": 4,
   "id": "3c065cba",
   "metadata": {},
   "outputs": [
    {
     "name": "stdout",
     "output_type": "stream",
     "text": [
      "{'chocolate': 1, 'pan': 2, 'arequipe': 3, 'arepa': 4, 'arroz': 5, 'papas': 6, 'platano': 7, 'sopa': 8} de tipo:  <class 'dict'>\n"
     ]
    }
   ],
   "source": [
    "print(d, \"de tipo: \", type(d))"
   ]
  }
 ],
 "metadata": {
  "kernelspec": {
   "display_name": "Python 3",
   "language": "python",
   "name": "python3"
  },
  "language_info": {
   "codemirror_mode": {
    "name": "ipython",
    "version": 3
   },
   "file_extension": ".py",
   "mimetype": "text/x-python",
   "name": "python",
   "nbconvert_exporter": "python",
   "pygments_lexer": "ipython3",
   "version": "3.11.9"
  }
 },
 "nbformat": 4,
 "nbformat_minor": 5
}
