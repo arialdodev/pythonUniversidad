{
 "cells": [
  {
   "cell_type": "code",
   "execution_count": 4,
   "id": "87820f1d",
   "metadata": {},
   "outputs": [
    {
     "name": "stdout",
     "output_type": "stream",
     "text": [
      "(5, 7, 8, 9)\n"
     ]
    }
   ],
   "source": [
    "tupla1=(5,7)\n",
    "tupla2=(8,9)\n",
    "suma = tupla1 + tupla2\n",
    "print(suma)"
   ]
  },
  {
   "cell_type": "code",
   "execution_count": 13,
   "id": "e708b59f",
   "metadata": {},
   "outputs": [
    {
     "name": "stdout",
     "output_type": "stream",
     "text": [
      "<class 'tuple'>\n",
      "<class 'list'>\n",
      "37 <class 'list'>\n"
     ]
    }
   ],
   "source": [
    "tupla = (1,3,2,6,4,5,7,8,9,10,11,12,13,14,15,16,17,18,19,20,21,22,23,24,25,26,27,28,29,30.31,32,33,34,35,36,37,38)\n",
    "ordenar = sorted(tupla)\n",
    "print(type(tupla))\n",
    "print(type(ordenar))\n",
    "print(len(ordenar), type(ordenar))"
   ]
  },
  {
   "cell_type": "code",
   "execution_count": 15,
   "id": "2cf3f408",
   "metadata": {},
   "outputs": [
    {
     "name": "stdout",
     "output_type": "stream",
     "text": [
      "<class 'tuple'>\n"
     ]
    }
   ],
   "source": [
    "tuplaC = (\"ing sistemas\", \"ing electronica\")\n",
    "print(type(tuplaC))"
   ]
  },
  {
   "cell_type": "code",
   "execution_count": null,
   "id": "2de9ae09",
   "metadata": {},
   "outputs": [
    {
     "name": "stdout",
     "output_type": "stream",
     "text": [
      "jo\n"
     ]
    }
   ],
   "source": [
    "tuplaA = (\"bisabuela\", \"bisabuelo\", (\"abuela\", \"abuelo\",(\"papa\", \"mama\", (\"hijo\"))))\n",
    "print(tuplaA[2][2][2][2:])"
   ]
  },
  {
   "cell_type": "code",
   "execution_count": 44,
   "id": "4b56606a",
   "metadata": {},
   "outputs": [
    {
     "data": {
      "text/plain": [
       "3"
      ]
     },
     "execution_count": 44,
     "metadata": {},
     "output_type": "execute_result"
    }
   ],
   "source": [
    "\"Arialdo Riaño Diaz\".find(\"a\")"
   ]
  }
 ],
 "metadata": {
  "kernelspec": {
   "display_name": "Python 3",
   "language": "python",
   "name": "python3"
  },
  "language_info": {
   "codemirror_mode": {
    "name": "ipython",
    "version": 3
   },
   "file_extension": ".py",
   "mimetype": "text/x-python",
   "name": "python",
   "nbconvert_exporter": "python",
   "pygments_lexer": "ipython3",
   "version": "3.12.4"
  }
 },
 "nbformat": 4,
 "nbformat_minor": 5
}
