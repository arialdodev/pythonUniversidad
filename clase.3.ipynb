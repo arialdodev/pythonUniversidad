{
 "cells": [
  {
   "cell_type": "markdown",
   "id": "cffa9c9b",
   "metadata": {},
   "source": [
    "#clase 3\n"
   ]
  },
  {
   "cell_type": "code",
   "execution_count": 4,
   "id": "9e34c450",
   "metadata": {},
   "outputs": [
    {
     "name": "stdout",
     "output_type": "stream",
     "text": [
      "(2, 3, 7)\n"
     ]
    }
   ],
   "source": [
    "B= (2,3,7) #Inmutable no cambia\n",
    "print(B)"
   ]
  },
  {
   "cell_type": "code",
   "execution_count": 5,
   "id": "b6dd314a",
   "metadata": {},
   "outputs": [],
   "source": [
    "D= [\"juan\",\"carlos\"] # Es modificable\n",
    "\n"
   ]
  },
  {
   "cell_type": "code",
   "execution_count": 6,
   "id": "3465725d",
   "metadata": {},
   "outputs": [
    {
     "ename": "NameError",
     "evalue": "name 'hola' is not defined",
     "output_type": "error",
     "traceback": [
      "\u001b[31m---------------------------------------------------------------------------\u001b[39m",
      "\u001b[31mNameError\u001b[39m                                 Traceback (most recent call last)",
      "\u001b[36mCell\u001b[39m\u001b[36m \u001b[39m\u001b[32mIn[6]\u001b[39m\u001b[32m, line 1\u001b[39m\n\u001b[32m----> \u001b[39m\u001b[32m1\u001b[39m \u001b[38;5;28mprint\u001b[39m(\u001b[33m\"\u001b[39m\u001b[33mla variable es:\u001b[39m\u001b[33m\"\u001b[39m,\u001b[38;5;28mtype\u001b[39m(\u001b[43mhola\u001b[49m))\n\u001b[32m      2\u001b[39m \u001b[38;5;28mprint\u001b[39m(\u001b[33m\"\u001b[39m\u001b[33mla variable es:\u001b[39m\u001b[33m\"\u001b[39m,\u001b[38;5;28mtype\u001b[39m(\u001b[32m4\u001b[39m))\n\u001b[32m      3\u001b[39m \u001b[38;5;28mprint\u001b[39m(\u001b[33m\"\u001b[39m\u001b[33mla variable es:\u001b[39m\u001b[33m\"\u001b[39m,\u001b[38;5;28mtype\u001b[39m(\u001b[32m1\u001b[39m,\u001b[32m2\u001b[39m,\u001b[32m3\u001b[39m))\n",
      "\u001b[31mNameError\u001b[39m: name 'hola' is not defined"
     ]
    }
   ],
   "source": [
    "print(\"la variable es:\",type(hola))\n",
    "print(\"la variable es:\",type(4))\n",
    "print(\"la variable es:\",type(1,2,3))\n",
    "print(\"la variable es:\",type(true))\n",
    "print(\"la variable es:\",())"
   ]
  },
  {
   "cell_type": "markdown",
   "id": "1d0f441a",
   "metadata": {},
   "source": [
    "#variables que almacenan multiples datos"
   ]
  },
  {
   "cell_type": "code",
   "execution_count": null,
   "id": "859af05f",
   "metadata": {},
   "outputs": [
    {
     "ename": "NameError",
     "evalue": "name 'No_modificacble' is not defined",
     "output_type": "error",
     "traceback": [
      "\u001b[31m---------------------------------------------------------------------------\u001b[39m",
      "\u001b[31mNameError\u001b[39m                                 Traceback (most recent call last)",
      "\u001b[36mCell\u001b[39m\u001b[36m \u001b[39m\u001b[32mIn[3]\u001b[39m\u001b[32m, line 4\u001b[39m\n\u001b[32m      2\u001b[39m No_modificable =(\u001b[32m1\u001b[39m,\u001b[32m2\u001b[39m,\u001b[32m3\u001b[39m,\u001b[32m4\u001b[39m)\n\u001b[32m      3\u001b[39m \u001b[38;5;66;03m#mostar el tipo de variable\u001b[39;00m\n\u001b[32m----> \u001b[39m\u001b[32m4\u001b[39m \u001b[38;5;28mprint\u001b[39m(\u001b[33m\"\u001b[39m\u001b[33mla variable es tipo:\u001b[39m\u001b[33m\"\u001b[39m, \u001b[38;5;28mtype\u001b[39m(\u001b[43mNo_modificacble\u001b[49m))\n",
      "\u001b[31mNameError\u001b[39m: name 'No_modificacble' is not defined"
     ]
    }
   ],
   "source": [
    "#creacion de una Tupla\n",
    "No_modificable =(1,2,3,4)\n",
    "#mostar el tipo de variable\n",
    "print(\"la variable es tipo:\", type(No_modificable))"
   ]
  }
 ],
 "metadata": {
  "kernelspec": {
   "display_name": "Python 3",
   "language": "python",
   "name": "python3"
  },
  "language_info": {
   "codemirror_mode": {
    "name": "ipython",
    "version": 3
   },
   "file_extension": ".py",
   "mimetype": "text/x-python",
   "name": "python",
   "nbconvert_exporter": "python",
   "pygments_lexer": "ipython3",
   "version": "3.11.9"
  }
 },
 "nbformat": 4,
 "nbformat_minor": 5
}
