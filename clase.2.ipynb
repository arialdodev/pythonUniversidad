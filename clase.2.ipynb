{
 "cells": [
  {
   "cell_type": "markdown",
   "id": "9e88a231",
   "metadata": {},
   "source": [
    "# clase 2"
   ]
  },
  {
   "cell_type": "markdown",
   "id": "7849d356",
   "metadata": {},
   "source": [
    "# tipos de variable\n"
   ]
  },
  {
   "cell_type": "code",
   "execution_count": 3,
   "id": "34bf7020",
   "metadata": {},
   "outputs": [],
   "source": [
    "A= \"carlos\"# variable de tipo de texto\n",
    "carlos= 12 # variable de tipo entero\n",
    "stra = 1.79 #float\n",
    "deporte = False#booeano\n"
   ]
  },
  {
   "cell_type": "code",
   "execution_count": 2,
   "id": "9df5edad",
   "metadata": {},
   "outputs": [
    {
     "data": {
      "text/plain": [
       "str"
      ]
     },
     "execution_count": 2,
     "metadata": {},
     "output_type": "execute_result"
    }
   ],
   "source": [
    "#funsion type() investigar el tipo de datos que tiene una variable \n",
    "type(A)"
   ]
  },
  {
   "cell_type": "code",
   "execution_count": null,
   "id": "82fceca6",
   "metadata": {},
   "outputs": [],
   "source": [
    "#funcio para ver el tipo de dato \n",
    "type(carlos)"
   ]
  }
 ],
 "metadata": {
  "kernelspec": {
   "display_name": "Python 3",
   "language": "python",
   "name": "python3"
  },
  "language_info": {
   "codemirror_mode": {
    "name": "ipython",
    "version": 3
   },
   "file_extension": ".py",
   "mimetype": "text/x-python",
   "name": "python",
   "nbconvert_exporter": "python",
   "pygments_lexer": "ipython3",
   "version": "3.11.9"
  }
 },
 "nbformat": 4,
 "nbformat_minor": 5
}
