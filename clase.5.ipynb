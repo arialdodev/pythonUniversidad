{
 "cells": [
  {
   "cell_type": "markdown",
   "id": "b15a2c7b",
   "metadata": {},
   "source": [
    "#Dateset"
   ]
  },
  {
   "cell_type": "code",
   "execution_count": 3,
   "id": "e5fcebf8",
   "metadata": {},
   "outputs": [
    {
     "name": "stdout",
     "output_type": "stream",
     "text": [
      "2.2.3\n"
     ]
    }
   ],
   "source": [
    "import pandas as pd\n",
    "print(pd.__version__)"
   ]
  },
  {
   "cell_type": "code",
   "execution_count": 5,
   "id": "4d4aeeea",
   "metadata": {},
   "outputs": [
    {
     "name": "stdout",
     "output_type": "stream",
     "text": [
      "la variable es de tipo: <class 'pandas.core.frame.DataFrame'>\n",
      "  nombre  Edades     ciudad\n",
      "0   juan      20     madrid\n",
      "1  maria      30  barcelona\n",
      "2   luis      40   colombia\n"
     ]
    }
   ],
   "source": [
    "datos= {\n",
    "    \"nombre\":['juan','maria','luis'],\n",
    "    \"Edades\":[20,30,40],\n",
    "    \"ciudad\":['madrid','barcelona','colombia']\n",
    "\n",
    "}\n",
    "#crear un dataframe \n",
    "tabla= pd.DataFrame(datos)\n",
    "#mostrar el tipo de variable\n",
    "print(\"la variable es de tipo:\",type(tabla))\n",
    "print(tabla)"
   ]
  }
 ],
 "metadata": {
  "kernelspec": {
   "display_name": "Python 3",
   "language": "python",
   "name": "python3"
  },
  "language_info": {
   "codemirror_mode": {
    "name": "ipython",
    "version": 3
   },
   "file_extension": ".py",
   "mimetype": "text/x-python",
   "name": "python",
   "nbconvert_exporter": "python",
   "pygments_lexer": "ipython3",
   "version": "3.11.9"
  }
 },
 "nbformat": 4,
 "nbformat_minor": 5
}
