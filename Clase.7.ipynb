{
 "cells": [
  {
   "cell_type": "markdown",
   "id": "4915ee9d",
   "metadata": {},
   "source": [
    "# CODIGO DE CLASE"
   ]
  },
  {
   "cell_type": "code",
   "execution_count": null,
   "id": "8bb3db22",
   "metadata": {},
   "outputs": [
    {
     "name": "stdout",
     "output_type": "stream",
     "text": [
      "[17, 20, 26, 31, 44, 54, 55, 77, 93]\n"
     ]
    }
   ],
   "source": [
    "# define una funcion llamada ordenarInsercionque recibe una lista (unaLista) como parametro\n",
    "def ordenarInsercion(unaLista):\n",
    "    #un ciclo que recorre la lista desde el indice 1 hasta el final\n",
    "    for indice in range(1, len(unaLista)):\n",
    "\n",
    "        #guardar el valor del elemento actual que queremos insertar en su lugar correcto:\n",
    "        valorActual = unaLista[indice]\n",
    "        # guardar la posicion actual, que puede ir cambiando si el valor necesita moverse ha\n",
    "        posicion = indice\n",
    "\n",
    "\n",
    "        # este bucle while se encarga de mover los elementos mayores que valorActual una posicion\n",
    "        # para insertar valorActual en la posicion correcta:   \n",
    "        while posicion>0 and unaLista[posicion-1]>valorActual:\n",
    "            unaLista[posicion]=unaLista[posicion-1]\n",
    "            posicion = posicion-1\n",
    "\n",
    "        unaLista[posicion]=valorActual\n",
    "\n",
    "#Aqui se crea una lista desordenada\n",
    "unaLista = [54, 26, 93, 17,77,31,44, 55, 20]\n",
    "ordenarInsercion(unaLista)\n",
    "\n",
    "print(unaLista)"
   ]
  },
  {
   "cell_type": "code",
   "execution_count": null,
   "id": "d5a3d649",
   "metadata": {},
   "outputs": [],
   "source": []
  }
 ],
 "metadata": {
  "kernelspec": {
   "display_name": "Python 3",
   "language": "python",
   "name": "python3"
  },
  "language_info": {
   "codemirror_mode": {
    "name": "ipython",
    "version": 3
   },
   "file_extension": ".py",
   "mimetype": "text/x-python",
   "name": "python",
   "nbconvert_exporter": "python",
   "pygments_lexer": "ipython3",
   "version": "3.12.4"
  }
 },
 "nbformat": 4,
 "nbformat_minor": 5
}
