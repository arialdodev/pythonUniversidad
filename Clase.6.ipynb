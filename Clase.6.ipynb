{
 "cells": [
  {
   "cell_type": "markdown",
   "id": "d33f698e",
   "metadata": {},
   "source": [
    "# Clase 5\n",
    "## dar formas a las salidas de impresiones"
   ]
  },
  {
   "cell_type": "code",
   "execution_count": 4,
   "id": "e8d0f013",
   "metadata": {},
   "outputs": [
    {
     "name": "stdout",
     "output_type": "stream",
     "text": [
      "2.2.3\n"
     ]
    }
   ],
   "source": [
    "import pandas as pd\n",
    "print(pd.__version__)"
   ]
  },
  {
   "cell_type": "code",
   "execution_count": null,
   "id": "8336bde0",
   "metadata": {},
   "outputs": [
    {
     "name": "stdout",
     "output_type": "stream",
     "text": [
      "los valores son: 13 trece\n"
     ]
    }
   ],
   "source": [
    "AA = 13\n",
    "BB = \"trece\"\n",
    "\n",
    "print(\"los valores son:\", AA, BB)\n",
    "\n"
   ]
  },
  {
   "cell_type": "code",
   "execution_count": 14,
   "id": "a726c6d9",
   "metadata": {},
   "outputs": [
    {
     "name": "stdout",
     "output_type": "stream",
     "text": [
      "los valores son 14 Y el otro valor es comida\n"
     ]
    }
   ],
   "source": [
    "CC = 14\n",
    "DD = \"comida\"\n",
    "\n",
    "print(f\"los valores son {CC} Y el otro valor es {DD}\")"
   ]
  },
  {
   "cell_type": "code",
   "execution_count": 20,
   "id": "0bc852ac",
   "metadata": {},
   "outputs": [
    {
     "name": "stdout",
     "output_type": "stream",
     "text": [
      "hola, mucho gusto mi nombr es juan y tengo 20 años\n"
     ]
    }
   ],
   "source": [
    "Nombre = \"juan\"\n",
    "Edad = 20\n",
    "\n",
    "print(\"hola, mucho gusto mi nombr es {} y tengo {} años\" .format(Nombre, Edad))"
   ]
  },
  {
   "cell_type": "code",
   "execution_count": 29,
   "id": "c443a3cd",
   "metadata": {},
   "outputs": [
    {
     "name": "stdout",
     "output_type": "stream",
     "text": [
      "hola, mucho gusto mi nombr es arialdo y tengo 18 años mi apellido es riaño y mi peso es 170 y mi altura es 1.700000\n"
     ]
    }
   ],
   "source": [
    "Nombre = \"arialdo\"\n",
    "Edad = 18\n",
    "Apellido = \"riaño\"\n",
    "peso = 170\n",
    "altura = 1.70\n",
    "\n",
    "print(\"hola, mucho gusto mi nombr es %s y tengo %d años mi apellido es %s y mi peso es %d y mi altura es %f\" % (Nombre, Edad, Apellido, peso, altura))"
   ]
  },
  {
   "cell_type": "markdown",
   "id": "1f6f817a",
   "metadata": {},
   "source": [
    "# Caracteres de escape"
   ]
  },
  {
   "cell_type": "code",
   "execution_count": 41,
   "id": "32138e1b",
   "metadata": {},
   "outputs": [
    {
     "name": "stdout",
     "output_type": "stream",
     "text": [
      " y me tome un tinto45 am, \n",
      " y me \"tome\" un tinto am, \n"
     ]
    }
   ],
   "source": [
    "# Usando el \\r\n",
    "\n",
    "print(\"me levante a las 6:45 am, \\r y me tome un tinto\")\n",
    "\n",
    "print(\"me levante a las 6:45 am, \\r y me \\\"tome\\\" un tinto\")\n"
   ]
  },
  {
   "cell_type": "code",
   "execution_count": null,
   "id": "6837bb9b",
   "metadata": {},
   "outputs": [
    {
     "name": "stdout",
     "output_type": "stream",
     "text": [
      "Arialdo\tRiaño\tDiaz\n"
     ]
    }
   ],
   "source": [
    "# Usando el \\t\n",
    "\n",
    "print(\"Arialdo\\tRiaño\\tDiaz\")"
   ]
  },
  {
   "cell_type": "code",
   "execution_count": null,
   "id": "88785e01",
   "metadata": {},
   "outputs": [
    {
     "name": "stdout",
     "output_type": "stream",
     "text": [
      " que desarrollándose de  \"una\" manera efectiva y lógica, \t lograrán un  que permiten solucionar un problema. Por ejemplo: si perdemos el acceso a una cuenta nos dan una serie de pasos para poder identificarla y así recuperarla o borrarla,  \n",
      " resultado determinado.\n"
     ]
    }
   ],
   "source": [
    "print(\"En términos de programación, un algoritmo es secuencia de pasos lógicos que permiten solucionar un problema. Por ejemplo: si perdemos el acceso a una cuenta nos dan una serie de pasos para poder identificarla y así recuperarla o borrarla,  \\r que desarrollándose de  \\\"una\\\" manera efectiva y lógica, \\t lograrán un  \\n resultado determinado.\")\n",
    "\n"
   ]
  }
 ],
 "metadata": {
  "kernelspec": {
   "display_name": "Python 3",
   "language": "python",
   "name": "python3"
  },
  "language_info": {
   "codemirror_mode": {
    "name": "ipython",
    "version": 3
   },
   "file_extension": ".py",
   "mimetype": "text/x-python",
   "name": "python",
   "nbconvert_exporter": "python",
   "pygments_lexer": "ipython3",
   "version": "3.12.4"
  }
 },
 "nbformat": 4,
 "nbformat_minor": 5
}
