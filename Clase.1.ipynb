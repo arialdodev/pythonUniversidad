{
 "cells": [
  {
   "cell_type": "markdown",
   "metadata": {},
   "source": [
    "hola 123"
   ]
  },
  {
   "cell_type": "markdown",
   "id": "9fa9dd98",
   "metadata": {},
   "source": [
    "hola1234"
   ]
  },
  {
   "cell_type": "markdown",
   "id": "c90a5dd2",
   "metadata": {},
   "source": [
    "hola567\n"
   ]
  }
 ],
 "metadata": {
  "kernelspec": {
   "display_name": "Python 3",
   "language": "python",
   "name": "python3"
  },
  "language_info": {
   "name": "python",
   "version": "3.12.4"
  }
 },
 "nbformat": 4,
 "nbformat_minor": 5
}
